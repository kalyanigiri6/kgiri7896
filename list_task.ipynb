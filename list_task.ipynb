{
 "cells": [
  {
   "cell_type": "markdown",
   "id": "9615a394",
   "metadata": {},
   "source": [
    "# Add(+)\n",
    "* The add fuction use to add two or more elements of list"
   ]
  },
  {
   "cell_type": "code",
   "execution_count": 1,
   "id": "55ebbd98",
   "metadata": {},
   "outputs": [
    {
     "name": "stdout",
     "output_type": "stream",
     "text": [
      "([9], [12], 6)\n"
     ]
    }
   ],
   "source": [
    "L1 = [4+5],[3+4+5],6\n",
    "print(L1)"
   ]
  },
  {
   "cell_type": "markdown",
   "id": "1f007f8f",
   "metadata": {},
   "source": [
    "# mul (*)\n",
    "* the mul fuction use to multiple two or more elements of list"
   ]
  },
  {
   "cell_type": "code",
   "execution_count": 2,
   "id": "2f9c124b",
   "metadata": {},
   "outputs": [
    {
     "name": "stdout",
     "output_type": "stream",
     "text": [
      "[12, 30, 90]\n"
     ]
    }
   ],
   "source": [
    "l1 = [3*4,5*6,9*10]\n",
    "print(l1)"
   ]
  },
  {
   "cell_type": "markdown",
   "id": "0ddf6ac0",
   "metadata": {},
   "source": [
    "# del\n",
    "* the del function is used to delete any data in specific position of list."
   ]
  },
  {
   "cell_type": "code",
   "execution_count": 3,
   "id": "1f59875f",
   "metadata": {},
   "outputs": [
    {
     "name": "stdout",
     "output_type": "stream",
     "text": [
      "[0, 1, 2, 3, 4, 5, 7, 8, 9, 10]\n"
     ]
    }
   ],
   "source": [
    "L2 = [0,1,2,3,4,5,6,7,8,9,10]\n",
    "del L2[6]\n",
    "print(L2)"
   ]
  },
  {
   "cell_type": "markdown",
   "id": "675c18cf",
   "metadata": {},
   "source": [
    "# len\n",
    "* len function is used to determine the length of object of list"
   ]
  },
  {
   "cell_type": "code",
   "execution_count": 5,
   "id": "5f2a7625",
   "metadata": {},
   "outputs": [
    {
     "name": "stdout",
     "output_type": "stream",
     "text": [
      "[1, 2, 3, 4, 5, 6, 7, 8, 9]\n",
      "9\n"
     ]
    }
   ],
   "source": [
    "L2 = [1,2,3,4,5,6,7,8,9]\n",
    "print(L2)\n",
    "print(len(L2))\n"
   ]
  },
  {
   "cell_type": "markdown",
   "id": "82f132ad",
   "metadata": {},
   "source": [
    "# Append\n",
    "* The append function is used to insert the elementor data at the last of list"
   ]
  },
  {
   "cell_type": "code",
   "execution_count": 6,
   "id": "5c4e037a",
   "metadata": {},
   "outputs": [
    {
     "name": "stdout",
     "output_type": "stream",
     "text": [
      "[1, 2, 8, 9, 6, 4, 7, 0, 10, 11, 12, 13, 14, 11]\n"
     ]
    }
   ],
   "source": [
    "L3 = [ 1,2,8,9,6,4,7,0,10,11,12,13,14]\n",
    "L3.append(11)\n",
    "print(L3)"
   ]
  },
  {
   "cell_type": "markdown",
   "id": "c20c446c",
   "metadata": {},
   "source": [
    "# Eq (==)\n",
    "* Eq is a predifined function which is used to compair the elements or data of list"
   ]
  },
  {
   "cell_type": "code",
   "execution_count": 7,
   "id": "c42b8b89",
   "metadata": {},
   "outputs": [
    {
     "data": {
      "text/plain": [
       "False"
      ]
     },
     "execution_count": 7,
     "metadata": {},
     "output_type": "execute_result"
    }
   ],
   "source": [
    "'A2'=='A3'"
   ]
  },
  {
   "cell_type": "code",
   "execution_count": 8,
   "id": "37e8556f",
   "metadata": {},
   "outputs": [
    {
     "data": {
      "text/plain": [
       "True"
      ]
     },
     "execution_count": 8,
     "metadata": {},
     "output_type": "execute_result"
    }
   ],
   "source": [
    "15==15"
   ]
  },
  {
   "cell_type": "markdown",
   "id": "edd091f7",
   "metadata": {},
   "source": [
    "# Clear\n",
    "* The clear fuction is used to remove all the data from the list"
   ]
  },
  {
   "cell_type": "code",
   "execution_count": 9,
   "id": "96b130ed",
   "metadata": {},
   "outputs": [
    {
     "name": "stdout",
     "output_type": "stream",
     "text": [
      "[]\n"
     ]
    }
   ],
   "source": [
    "L4 = [ 'A','B','C','D']\n",
    "L4.clear()\n",
    "print(L4)"
   ]
  },
  {
   "cell_type": "markdown",
   "id": "627dbdcc",
   "metadata": {},
   "source": [
    "# Insert\n",
    "* Insert fuction is used to insert the data or element in specific position of list."
   ]
  },
  {
   "cell_type": "code",
   "execution_count": 12,
   "id": "939b2f7d",
   "metadata": {},
   "outputs": [
    {
     "name": "stdout",
     "output_type": "stream",
     "text": [
      "[11, 22, 33, 44, 55, 77, 66, 88]\n"
     ]
    }
   ],
   "source": [
    "L5 = [ 11,22,33,44,55,77,88]\n",
    "L5.insert(6,66)\n",
    "print(L5)"
   ]
  },
  {
   "cell_type": "markdown",
   "id": "ae2da1c4",
   "metadata": {},
   "source": [
    "# Copy\n",
    "* The copy function is used to copy the given list."
   ]
  },
  {
   "cell_type": "code",
   "execution_count": 13,
   "id": "c7cf727f",
   "metadata": {},
   "outputs": [
    {
     "data": {
      "text/plain": [
       "[110, 120, 130, 140, 150, 160, 170, 180, 190, 200]"
      ]
     },
     "execution_count": 13,
     "metadata": {},
     "output_type": "execute_result"
    }
   ],
   "source": [
    "L6 = [110,120,130,140,150,160,170,180,190,200]\n",
    "L6.copy()"
   ]
  },
  {
   "cell_type": "markdown",
   "id": "304b2922",
   "metadata": {},
   "source": [
    "# Count\n",
    "* The count fuction is used to Count the number of element in the list."
   ]
  },
  {
   "cell_type": "code",
   "execution_count": 14,
   "id": "eb15b597",
   "metadata": {},
   "outputs": [
    {
     "data": {
      "text/plain": [
       "1"
      ]
     },
     "execution_count": 14,
     "metadata": {},
     "output_type": "execute_result"
    }
   ],
   "source": [
    "L7 = [8]\n",
    "L7.count(8)"
   ]
  },
  {
   "cell_type": "markdown",
   "id": "4f50339c",
   "metadata": {},
   "source": [
    "# Remove\n",
    "* The remove fuction is used to remove the data or element of the list."
   ]
  },
  {
   "cell_type": "code",
   "execution_count": 16,
   "id": "8bb720a9",
   "metadata": {},
   "outputs": [
    {
     "name": "stdout",
     "output_type": "stream",
     "text": [
      "[2, 3, 4, 5, 6, 7, 8, 9]\n"
     ]
    }
   ],
   "source": [
    "L8 = [ 1,2,3,4,5,6,7,8,9]\n",
    "L8.remove(1)\n",
    "print(L8)"
   ]
  },
  {
   "cell_type": "markdown",
   "id": "0e500d73",
   "metadata": {},
   "source": [
    "# Sort\n",
    "* Sort funtion is used to arrenge the data or element of a list (ascending or descending)"
   ]
  },
  {
   "cell_type": "code",
   "execution_count": 17,
   "id": "07a450e9",
   "metadata": {},
   "outputs": [
    {
     "name": "stdout",
     "output_type": "stream",
     "text": [
      "[1, 3, 10, 48, 60, 85, 100, 130]\n"
     ]
    }
   ],
   "source": [
    "# ascending\n",
    "L9 = [ 130,10,60,48,100,1,3,85]\n",
    "L9.sort()\n",
    "print(L9)"
   ]
  },
  {
   "cell_type": "code",
   "execution_count": 18,
   "id": "c3287345",
   "metadata": {},
   "outputs": [
    {
     "name": "stdout",
     "output_type": "stream",
     "text": [
      "[130, 100, 85, 60, 48, 10, 3, 1]\n"
     ]
    }
   ],
   "source": [
    "# descending\n",
    "L9.sort(reverse = True)\n",
    "print(L9)"
   ]
  },
  {
   "cell_type": "code",
   "execution_count": null,
   "id": "cddbd815",
   "metadata": {},
   "outputs": [],
   "source": []
  }
 ],
 "metadata": {
  "kernelspec": {
   "display_name": "Python 3 (ipykernel)",
   "language": "python",
   "name": "python3"
  },
  "language_info": {
   "codemirror_mode": {
    "name": "ipython",
    "version": 3
   },
   "file_extension": ".py",
   "mimetype": "text/x-python",
   "name": "python",
   "nbconvert_exporter": "python",
   "pygments_lexer": "ipython3",
   "version": "3.11.5"
  }
 },
 "nbformat": 4,
 "nbformat_minor": 5
}
