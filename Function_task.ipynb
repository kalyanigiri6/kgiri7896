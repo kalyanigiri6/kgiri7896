{
 "cells": [
  {
   "cell_type": "markdown",
   "id": "8c565526",
   "metadata": {},
   "source": [
    "# Function"
   ]
  },
  {
   "cell_type": "code",
   "execution_count": 1,
   "id": "a53022d6",
   "metadata": {},
   "outputs": [
    {
     "name": "stdout",
     "output_type": "stream",
     "text": [
      "This is a dictionary\n",
      "{'teacher1': 'kalyani', 'teacher2': 'payal', 'teacher3': 'kanchan'}\n"
     ]
    }
   ],
   "source": [
    "print('This is a dictionary')\n",
    "\n",
    "def dictName(val1,val2,val3):\n",
    "    join_Name = f'{val1}{val2}{val3}'\n",
    "    result = {\n",
    "        'teacher1':val1,\n",
    "        'teacher2':val2,\n",
    "        'teacher3':val3,\n",
    "    }\n",
    "    return result\n",
    "\n",
    "\n",
    "val1 = \"kalyani\"\n",
    "val2 = \"payal\"\n",
    "val3 = \"kanchan\"\n",
    "output = dictName(val1,val2,val3)\n",
    "\n",
    "print(output)"
   ]
  },
  {
   "cell_type": "code",
   "execution_count": 2,
   "id": "d6aa9526",
   "metadata": {},
   "outputs": [],
   "source": [
    "def my_function(f1,f2,f3):\n",
    "    joint_name = f'{f1},{f2},{f3}'\n",
    "    result = {'name1':f1,'name2':f2,'name3':f3}\n",
    "    return result"
   ]
  },
  {
   "cell_type": "code",
   "execution_count": 5,
   "id": "d7de9d6d",
   "metadata": {},
   "outputs": [],
   "source": [
    "f1 = \"payal1\"\n",
    "f2 = \"kanchan2\"\n",
    "f3 = \"boki3\"\n",
    "output = my_function(f1,f2,f3)"
   ]
  },
  {
   "cell_type": "code",
   "execution_count": 6,
   "id": "39b6168e",
   "metadata": {},
   "outputs": [
    {
     "name": "stdout",
     "output_type": "stream",
     "text": [
      "{'name1': 'payal1', 'name2': 'kanchan2', 'name3': 'boki3'}\n"
     ]
    }
   ],
   "source": [
    "print(output)"
   ]
  },
  {
   "cell_type": "code",
   "execution_count": null,
   "id": "f4dcf26e",
   "metadata": {},
   "outputs": [],
   "source": []
  }
 ],
 "metadata": {
  "kernelspec": {
   "display_name": "Python 3 (ipykernel)",
   "language": "python",
   "name": "python3"
  },
  "language_info": {
   "codemirror_mode": {
    "name": "ipython",
    "version": 3
   },
   "file_extension": ".py",
   "mimetype": "text/x-python",
   "name": "python",
   "nbconvert_exporter": "python",
   "pygments_lexer": "ipython3",
   "version": "3.11.5"
  }
 },
 "nbformat": 4,
 "nbformat_minor": 5
}
