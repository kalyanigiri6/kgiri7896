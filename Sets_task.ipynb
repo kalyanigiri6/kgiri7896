{
 "cells": [
  {
   "cell_type": "markdown",
   "id": "226118e5",
   "metadata": {},
   "source": [
    "# Set\n",
    "* Set are unordered collections of unique elements. They are similar to lists in terms of storing elements, but unlike lists, sets cannot contain duplicate entries."
   ]
  },
  {
   "cell_type": "code",
   "execution_count": 1,
   "id": "fff5c1c4",
   "metadata": {},
   "outputs": [
    {
     "name": "stdout",
     "output_type": "stream",
     "text": [
      "<class 'set'>\n",
      "{1, 2, 3, 4, 5, 6, 7, 8, 9, 10, 11, 12, 13, 14, 15}\n"
     ]
    }
   ],
   "source": [
    "Set = {1,2,3,4,5,6,7,8,9,10,11,12,13,14,15 }\n",
    "print(type(Set))\n",
    "print(Set)"
   ]
  },
  {
   "cell_type": "markdown",
   "id": "bb3869c6",
   "metadata": {},
   "source": [
    "# Add(+)\n",
    "* The add fuction is use to add elements in sets."
   ]
  },
  {
   "cell_type": "code",
   "execution_count": 2,
   "id": "a0e6986b",
   "metadata": {},
   "outputs": [
    {
     "name": "stdout",
     "output_type": "stream",
     "text": [
      "{1, 2, 3, 4, 5, 6, 7}\n"
     ]
    }
   ],
   "source": [
    "S1 = {1,2,3,4,5,6}\n",
    "S1.add(7)\n",
    "print(S1)"
   ]
  },
  {
   "cell_type": "markdown",
   "id": "db5c2463",
   "metadata": {},
   "source": [
    "# Eq (==)\n",
    "* The eq function is use to compair the sets."
   ]
  },
  {
   "cell_type": "code",
   "execution_count": 6,
   "id": "c6815bb0",
   "metadata": {},
   "outputs": [
    {
     "data": {
      "text/plain": [
       "True"
      ]
     },
     "execution_count": 6,
     "metadata": {},
     "output_type": "execute_result"
    }
   ],
   "source": [
    "S1 = {1,2,3,4,5,6,7,8,9 }\n",
    "S2 = {'a'}\n",
    "S3 = {'a'}\n",
    "S2==S3"
   ]
  },
  {
   "cell_type": "markdown",
   "id": "9c84c27c",
   "metadata": {},
   "source": [
    "# Copy\n",
    "* The copy function use to capy the set."
   ]
  },
  {
   "cell_type": "code",
   "execution_count": 7,
   "id": "e6d40632",
   "metadata": {},
   "outputs": [
    {
     "name": "stdout",
     "output_type": "stream",
     "text": [
      "{'D', 'B', 'E', 'C', 'A'}\n"
     ]
    },
    {
     "data": {
      "text/plain": [
       "{'A', 'B', 'C', 'D', 'E'}"
      ]
     },
     "execution_count": 7,
     "metadata": {},
     "output_type": "execute_result"
    }
   ],
   "source": [
    "S2 = {'A','B','C','D','E'}\n",
    "print(S2)\n",
    "S2.copy()\n"
   ]
  },
  {
   "cell_type": "markdown",
   "id": "ffc76322",
   "metadata": {},
   "source": [
    "# Clear\n",
    "* The clear function is ude to remove all element from the set."
   ]
  },
  {
   "cell_type": "code",
   "execution_count": 8,
   "id": "387d2fa7",
   "metadata": {},
   "outputs": [
    {
     "name": "stdout",
     "output_type": "stream",
     "text": [
      "set()\n"
     ]
    }
   ],
   "source": [
    "S3 = {1,2,3,4,5,6,7,8,9,10,11,12,13,14,15}\n",
    "S3.clear()\n",
    "print(S3)"
   ]
  },
  {
   "cell_type": "markdown",
   "id": "f663c25b",
   "metadata": {},
   "source": [
    "# Difference\n",
    "* The difference function is use to calculte the diffrece between sets. it represent the only first set."
   ]
  },
  {
   "cell_type": "code",
   "execution_count": 9,
   "id": "279d4865",
   "metadata": {},
   "outputs": [
    {
     "name": "stdout",
     "output_type": "stream",
     "text": [
      "{1, 2, 4}\n"
     ]
    }
   ],
   "source": [
    "S7 = {1,2,3,4}\n",
    "S8 = {3,6,9,12}\n",
    "difference = S7 - S8\n",
    "print(difference)\n"
   ]
  },
  {
   "cell_type": "code",
   "execution_count": 10,
   "id": "3fc8d748",
   "metadata": {},
   "outputs": [
    {
     "name": "stdout",
     "output_type": "stream",
     "text": [
      "{1, 2, 4}\n"
     ]
    }
   ],
   "source": [
    "difference1 = S7.difference(S8)\n",
    "print(difference1)"
   ]
  },
  {
   "cell_type": "markdown",
   "id": "6809d61e",
   "metadata": {},
   "source": [
    "# Difference_update\n",
    "* The difference_update is use to remove the element that are already present in another set."
   ]
  },
  {
   "cell_type": "code",
   "execution_count": 12,
   "id": "70cdc378",
   "metadata": {},
   "outputs": [
    {
     "name": "stdout",
     "output_type": "stream",
     "text": [
      "{'E', 'C', 'A'}\n"
     ]
    }
   ],
   "source": [
    "S9 = {'A','B','C','D','E','F'}\n",
    "S10 = {'a','B','c','D','e','F'}\n",
    "S9.difference_update(S10)\n",
    "print(S9)"
   ]
  },
  {
   "cell_type": "markdown",
   "id": "fd47db60",
   "metadata": {},
   "source": [
    "# Discard\n",
    "* The discard function is use remove element of the set."
   ]
  },
  {
   "cell_type": "code",
   "execution_count": 14,
   "id": "c6decfcd",
   "metadata": {},
   "outputs": [
    {
     "name": "stdout",
     "output_type": "stream",
     "text": [
      "{80, 50, 40, 90, 60}\n"
     ]
    },
    {
     "data": {
      "text/plain": [
       "{40, 50, 60, 80, 90}"
      ]
     },
     "execution_count": 14,
     "metadata": {},
     "output_type": "execute_result"
    }
   ],
   "source": [
    "S11 = {40,50,60,70,80,90}\n",
    "S11.discard(70)\n",
    "print(S11)\n",
    "S11"
   ]
  },
  {
   "cell_type": "code",
   "execution_count": 15,
   "id": "481c6b48",
   "metadata": {},
   "outputs": [
    {
     "name": "stdout",
     "output_type": "stream",
     "text": [
      "{1, 2, 3, 4, 5, 7}\n"
     ]
    },
    {
     "data": {
      "text/plain": [
       "{1, 2, 3, 4, 5, 7}"
      ]
     },
     "execution_count": 15,
     "metadata": {},
     "output_type": "execute_result"
    }
   ],
   "source": [
    "s11 = {1,2,3,4,5,6,7}\n",
    "s11.discard(6)\n",
    "print(s11)\n",
    "s11"
   ]
  },
  {
   "cell_type": "markdown",
   "id": "12938ec1",
   "metadata": {},
   "source": [
    "# Intersection\n",
    "* Return the intersection of two sets as a new set."
   ]
  },
  {
   "cell_type": "code",
   "execution_count": 17,
   "id": "804a420e",
   "metadata": {},
   "outputs": [
    {
     "data": {
      "text/plain": [
       "{3, 6}"
      ]
     },
     "execution_count": 17,
     "metadata": {},
     "output_type": "execute_result"
    }
   ],
   "source": [
    "S12 = {1,2,3,4,5,6,7,8}\n",
    "S13 = {3,6,9,12,15,18}\n",
    "S12.intersection(S13)"
   ]
  },
  {
   "cell_type": "markdown",
   "id": "e1fed1c0",
   "metadata": {},
   "source": [
    "# Intersection_update\n",
    "* The intersection_update is use to remove the element that are not present in another set."
   ]
  },
  {
   "cell_type": "code",
   "execution_count": 18,
   "id": "953821a9",
   "metadata": {},
   "outputs": [
    {
     "data": {
      "text/plain": [
       "{'A', 'B', 'C', 'D', 'E'}"
      ]
     },
     "execution_count": 18,
     "metadata": {},
     "output_type": "execute_result"
    }
   ],
   "source": [
    "S14 = {'A','B','C','D','E'}\n",
    "S15 = {'A','b','B','c','d'}\n",
    "S14.intersection_update(S14)\n",
    "S14"
   ]
  },
  {
   "cell_type": "markdown",
   "id": "6041df59",
   "metadata": {},
   "source": [
    "# Pop\n",
    "* It Removes and returns an arbitrary element from the set."
   ]
  },
  {
   "cell_type": "code",
   "execution_count": 19,
   "id": "ce5df4c0",
   "metadata": {},
   "outputs": [
    {
     "data": {
      "text/plain": [
       "{11, 22, 44, 55, 66, 77, 88, 99}"
      ]
     },
     "execution_count": 19,
     "metadata": {},
     "output_type": "execute_result"
    }
   ],
   "source": [
    "S16 = {11,22,33,44,55,66,77,88,99}\n",
    "S16.pop()\n",
    "S16"
   ]
  },
  {
   "cell_type": "markdown",
   "id": "3342653d",
   "metadata": {},
   "source": [
    "# Union\n",
    "* Return the union of sets as a new set."
   ]
  },
  {
   "cell_type": "code",
   "execution_count": 20,
   "id": "9a75594e",
   "metadata": {},
   "outputs": [
    {
     "data": {
      "text/plain": [
       "{1, 2, 3, 4, 5, 6, 7, 8, 9, 10, 11, 14, 15, 16, 17, 19}"
      ]
     },
     "execution_count": 20,
     "metadata": {},
     "output_type": "execute_result"
    }
   ],
   "source": [
    "S17 = {1,2,3,4,5,6,7,8,9,10,11}\n",
    "S18 = {1,3,4,6,11,14,15,16,17,19}\n",
    "S17.union(S18)"
   ]
  },
  {
   "cell_type": "code",
   "execution_count": null,
   "id": "cfb86946",
   "metadata": {},
   "outputs": [],
   "source": []
  }
 ],
 "metadata": {
  "kernelspec": {
   "display_name": "Python 3 (ipykernel)",
   "language": "python",
   "name": "python3"
  },
  "language_info": {
   "codemirror_mode": {
    "name": "ipython",
    "version": 3
   },
   "file_extension": ".py",
   "mimetype": "text/x-python",
   "name": "python",
   "nbconvert_exporter": "python",
   "pygments_lexer": "ipython3",
   "version": "3.11.5"
  }
 },
 "nbformat": 4,
 "nbformat_minor": 5
}
