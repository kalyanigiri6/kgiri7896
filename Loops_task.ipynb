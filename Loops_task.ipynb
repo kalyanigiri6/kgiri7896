{
 "cells": [
  {
   "cell_type": "markdown",
   "id": "b1b217d3",
   "metadata": {},
   "source": [
    "# While loop"
   ]
  },
  {
   "cell_type": "markdown",
   "id": "beeade03",
   "metadata": {},
   "source": [
    "* A while loop repeatedly execute a single statement or group of statements as long as the condition is true."
   ]
  },
  {
   "cell_type": "code",
   "execution_count": 1,
   "id": "19078f41",
   "metadata": {},
   "outputs": [],
   "source": [
    "Mobile_lists = [ \n",
    "\n",
    "        {'Brand':'Apple', 'Model':'Iphone_14', 'Year':2022},\n",
    "        {'Brand':'oppo', 'Model':'oppo_7', 'Year':2021},\n",
    "        {'Brand':'Oneplus', 'Model':'Oneplus_11', 'Year':2021},\n",
    "        {'Brand':'Vivo', 'Model':'Vivo_v20', 'Year':2021},\n",
    "        {'Brand':'Redmi', 'Model':'redmi_12', 'Year':2023},\n",
    "\n",
    "\n",
    "]  #Create list of Different mobiles "
   ]
  },
  {
   "cell_type": "code",
   "execution_count": 2,
   "id": "9b27e402",
   "metadata": {},
   "outputs": [
    {
     "name": "stdout",
     "output_type": "stream",
     "text": [
      "Iphone_14 Released In 2022 Year\n",
      "oppo_7 Released In 2021 Year\n",
      "Oneplus_11 Released In 2021 Year\n",
      "Vivo_v20 Released In 2021 Year\n",
      "redmi_12 Released In 2023 Year\n"
     ]
    }
   ],
   "source": [
    "#using while loop\n",
    "\n",
    "e = 0\n",
    "while e < len(Mobile_lists):\n",
    "    model = Mobile_lists[e]['Model']\n",
    "    year= Mobile_lists[e]['Year']\n",
    "    print(f'{model} Released In {year} Year')\n",
    "    e = e + 1"
   ]
  },
  {
   "cell_type": "markdown",
   "id": "8c1634ed",
   "metadata": {},
   "source": [
    "# For loop"
   ]
  },
  {
   "cell_type": "markdown",
   "id": "a7f3e73c",
   "metadata": {},
   "source": [
    "* for loop used to iterate over a sequence (such as a list, tuple, dictionary, string, range) and execute a block of code for each item in the sequence."
   ]
  },
  {
   "cell_type": "code",
   "execution_count": 3,
   "id": "255b7e11",
   "metadata": {},
   "outputs": [
    {
     "name": "stdout",
     "output_type": "stream",
     "text": [
      "Apple its most demanding model is Iphone_14\n",
      "Iphone_14 is the highest selling model apart from other variants in 2022\n",
      "oppo its most demanding model is oppo_7\n",
      "oppo_7 is the highest selling model apart from other variants in 2021\n",
      "Oneplus its most demanding model is Oneplus_11\n",
      "Oneplus_11 is the highest selling model apart from other variants in 2021\n",
      "Vivo its most demanding model is Vivo_v20\n",
      "Vivo_v20 is the highest selling model apart from other variants in 2021\n",
      "Redmi its most demanding model is redmi_12\n",
      "redmi_12 is the highest selling model apart from other variants in 2023\n"
     ]
    }
   ],
   "source": [
    "for values in Mobile_lists:\n",
    "    brand = values['Brand']\n",
    "    model = values['Model']\n",
    "    year = values['Year']\n",
    "\n",
    "    print(f'{brand} its most demanding model is {model}')\n",
    "    \n",
    "    print(f'{model} is the highest selling model apart from other variants in {year}')\n",
    "    "
   ]
  },
  {
   "cell_type": "markdown",
   "id": "c52a099f",
   "metadata": {},
   "source": [
    "# Map Function"
   ]
  },
  {
   "cell_type": "markdown",
   "id": "06275da2",
   "metadata": {},
   "source": [
    "* The map function allow to apply a function to an iterable object and returns an iterator containing the results."
   ]
  },
  {
   "cell_type": "code",
   "execution_count": 4,
   "id": "a744d52d",
   "metadata": {},
   "outputs": [],
   "source": [
    "Brand_and_its_Founding_Countries = {\n",
    "        'Apple':'Unitade States',\n",
    "        'oppo':'china',\n",
    "        'Oneplus':'China',\n",
    "        'Vivo':'China',\n",
    "        'redmi':'China'\n",
    "    \n",
    "}"
   ]
  },
  {
   "cell_type": "code",
   "execution_count": 5,
   "id": "a27b9cc6",
   "metadata": {},
   "outputs": [],
   "source": [
    "def add_founding_countries(Founding_Countries):\n",
    "    brand = Founding_Countries['Brand']\n",
    "    if brand in Brand_and_its_Founding_Countries:\n",
    "        Founding_Countries['Founding_Countries'] = Brand_and_its_Founding_Countries[brand]\n",
    "        \n",
    "    return Founding_Countries\n",
    "#adding founding countries"
   ]
  },
  {
   "cell_type": "code",
   "execution_count": 6,
   "id": "7c1ea52f",
   "metadata": {},
   "outputs": [
    {
     "name": "stdout",
     "output_type": "stream",
     "text": [
      "[{'Brand': 'Apple', 'Model': 'Iphone_14', 'Year': 2022, 'Founding_Countries': 'Unitade States'}, {'Brand': 'oppo', 'Model': 'oppo_7', 'Year': 2021, 'Founding_Countries': 'china'}, {'Brand': 'Oneplus', 'Model': 'Oneplus_11', 'Year': 2021, 'Founding_Countries': 'China'}, {'Brand': 'Vivo', 'Model': 'Vivo_v20', 'Year': 2021, 'Founding_Countries': 'China'}, {'Brand': 'Redmi', 'Model': 'redmi_12', 'Year': 2023}]\n"
     ]
    }
   ],
   "source": [
    "Mobile_lists = list(map(add_founding_countries, Mobile_lists))\n",
    "\n",
    "print(Mobile_lists)"
   ]
  },
  {
   "cell_type": "markdown",
   "id": "711472f7",
   "metadata": {},
   "source": [
    "# Filter and Lambda"
   ]
  },
  {
   "cell_type": "markdown",
   "id": "48be17fd",
   "metadata": {},
   "source": [
    "* Filter - It returns the items of iterables for the function which is True."
   ]
  },
  {
   "cell_type": "markdown",
   "id": "47d04f4d",
   "metadata": {},
   "source": [
    "* Lambda - Lambda expressions allow to create anonymous functions. It can quickly make temporary functions without properly defining function using def."
   ]
  },
  {
   "cell_type": "code",
   "execution_count": 9,
   "id": "0379fb41",
   "metadata": {},
   "outputs": [
    {
     "name": "stdout",
     "output_type": "stream",
     "text": [
      "[{'Brand': 'oppo', 'Model': 'oppo_7', 'Year': 2021, 'Founding_Countries': 'china'}]\n"
     ]
    }
   ],
   "source": [
    "filtered_list = list(filter(lambda a: a['Brand'] == 'oppo', Mobile_lists))\n",
    "\n",
    "print(filtered_list)"
   ]
  },
  {
   "cell_type": "code",
   "execution_count": null,
   "id": "27da458a",
   "metadata": {},
   "outputs": [],
   "source": []
  }
 ],
 "metadata": {
  "kernelspec": {
   "display_name": "Python 3 (ipykernel)",
   "language": "python",
   "name": "python3"
  },
  "language_info": {
   "codemirror_mode": {
    "name": "ipython",
    "version": 3
   },
   "file_extension": ".py",
   "mimetype": "text/x-python",
   "name": "python",
   "nbconvert_exporter": "python",
   "pygments_lexer": "ipython3",
   "version": "3.11.5"
  }
 },
 "nbformat": 4,
 "nbformat_minor": 5
}
