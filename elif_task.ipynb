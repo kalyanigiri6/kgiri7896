{
 "cells": [
  {
   "cell_type": "markdown",
   "id": "eb64ff09",
   "metadata": {},
   "source": [
    "# Join text\n",
    "* Join a multple strings whith help of function"
   ]
  },
  {
   "cell_type": "code",
   "execution_count": 1,
   "id": "f7ee97f1",
   "metadata": {},
   "outputs": [],
   "source": [
    "def join_text (*args,separator=''):\n",
    "    return separator.join(args)"
   ]
  },
  {
   "cell_type": "code",
   "execution_count": 2,
   "id": "82bcbe51",
   "metadata": {},
   "outputs": [],
   "source": [
    "a1 = \"teacher\"\n",
    "a2 = \"student\"\n",
    "\n",
    "joined_text = join_text(a1,a2, separator=' ')"
   ]
  },
  {
   "cell_type": "code",
   "execution_count": 3,
   "id": "7b6e6b66",
   "metadata": {},
   "outputs": [
    {
     "name": "stdout",
     "output_type": "stream",
     "text": [
      "teacher student\n"
     ]
    }
   ],
   "source": [
    "print(joined_text)"
   ]
  },
  {
   "cell_type": "markdown",
   "id": "541b77b6",
   "metadata": {},
   "source": [
    "# Trim text"
   ]
  },
  {
   "cell_type": "code",
   "execution_count": 4,
   "id": "55dbbbac",
   "metadata": {},
   "outputs": [],
   "source": [
    "def trim(text, side = 'both'):\n",
    "    if side == 'left':\n",
    "        return text.lstrip()\n",
    "    elif side == 'right':\n",
    "        return text.rstrip()\n",
    "    elif side == 'both':\n",
    "        return text.strip()"
   ]
  },
  {
   "cell_type": "code",
   "execution_count": 5,
   "id": "f3c5c690",
   "metadata": {},
   "outputs": [
    {
     "name": "stdout",
     "output_type": "stream",
     "text": [
      "trimmed(both side): teacherstydent\n"
     ]
    }
   ],
   "source": [
    "text = \"        teacherstydent     \"\n",
    "\n",
    "trimmed_text_both = trim(text)\n",
    "print('trimmed(both side):',trimmed_text_both)"
   ]
  },
  {
   "cell_type": "markdown",
   "id": "3616030b",
   "metadata": {},
   "source": [
    "# Substitute text"
   ]
  },
  {
   "cell_type": "code",
   "execution_count": 6,
   "id": "8f03c91e",
   "metadata": {},
   "outputs": [],
   "source": [
    "def substitute_text(text,old,new):\n",
    "    return text.replace(old,new)"
   ]
  },
  {
   "cell_type": "code",
   "execution_count": 7,
   "id": "b3e49616",
   "metadata": {},
   "outputs": [],
   "source": [
    "real_text = \"I am buying a car tomorrow\"\n",
    "old_text = \"car\"\n",
    "new_text = \"BMW\""
   ]
  },
  {
   "cell_type": "code",
   "execution_count": 8,
   "id": "c4b6efa5",
   "metadata": {},
   "outputs": [],
   "source": [
    "substituted_text = substitute_text(real_text,old_text,new_text)"
   ]
  },
  {
   "cell_type": "code",
   "execution_count": 9,
   "id": "a03e6b25",
   "metadata": {},
   "outputs": [
    {
     "name": "stdout",
     "output_type": "stream",
     "text": [
      "I am buying a car tomorrow\n",
      "I am buying a BMW tomorrow\n"
     ]
    }
   ],
   "source": [
    "print(real_text)\n",
    "print(substituted_text)"
   ]
  },
  {
   "cell_type": "markdown",
   "id": "b4d4f318",
   "metadata": {},
   "source": [
    "# Cut text"
   ]
  },
  {
   "cell_type": "code",
   "execution_count": 10,
   "id": "6a3777ed",
   "metadata": {},
   "outputs": [],
   "source": [
    "def cut_text(text,start,end):\n",
    "    return text[start:end]"
   ]
  },
  {
   "cell_type": "code",
   "execution_count": 11,
   "id": "c65635f9",
   "metadata": {},
   "outputs": [],
   "source": [
    "real_text = \"I am buying a car tomorrow\"\n",
    "start_position = 15\n",
    "end_position = 33"
   ]
  },
  {
   "cell_type": "code",
   "execution_count": 12,
   "id": "75be8b00",
   "metadata": {},
   "outputs": [],
   "source": [
    "cut_portion = cut_text(real_text,start_position,end_position)"
   ]
  },
  {
   "cell_type": "code",
   "execution_count": 13,
   "id": "98568fdb",
   "metadata": {},
   "outputs": [
    {
     "name": "stdout",
     "output_type": "stream",
     "text": [
      "I am buying a car tomorrow\n",
      "ar tomorrow\n"
     ]
    }
   ],
   "source": [
    "print(real_text)\n",
    "print(cut_portion)"
   ]
  },
  {
   "cell_type": "code",
   "execution_count": null,
   "id": "8acdf5b4",
   "metadata": {},
   "outputs": [],
   "source": []
  }
 ],
 "metadata": {
  "kernelspec": {
   "display_name": "Python 3 (ipykernel)",
   "language": "python",
   "name": "python3"
  },
  "language_info": {
   "codemirror_mode": {
    "name": "ipython",
    "version": 3
   },
   "file_extension": ".py",
   "mimetype": "text/x-python",
   "name": "python",
   "nbconvert_exporter": "python",
   "pygments_lexer": "ipython3",
   "version": "3.11.5"
  }
 },
 "nbformat": 4,
 "nbformat_minor": 5
}
