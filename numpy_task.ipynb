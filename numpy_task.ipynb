{
 "cells": [
  {
   "cell_type": "markdown",
   "id": "7a726a36",
   "metadata": {},
   "source": [
    "# Numpy is Numerical Python."
   ]
  },
  {
   "cell_type": "code",
   "execution_count": 1,
   "id": "4751dd33",
   "metadata": {},
   "outputs": [],
   "source": [
    "import numpy as np\n"
   ]
  },
  {
   "cell_type": "markdown",
   "id": "40b237f6",
   "metadata": {},
   "source": [
    "# Numpy Functions"
   ]
  },
  {
   "cell_type": "code",
   "execution_count": 2,
   "id": "b62e354a",
   "metadata": {},
   "outputs": [
    {
     "data": {
      "text/plain": [
       "array([[1, 2, 3, 4],\n",
       "       [5, 6, 7, 8]])"
      ]
     },
     "execution_count": 2,
     "metadata": {},
     "output_type": "execute_result"
    }
   ],
   "source": [
    "val1 = np.array([[1,2,3,4],[5,6,7,8]])\n",
    "val1"
   ]
  },
  {
   "cell_type": "markdown",
   "id": "47ec86ab",
   "metadata": {},
   "source": [
    "* np.zeros"
   ]
  },
  {
   "cell_type": "code",
   "execution_count": 3,
   "id": "3c91b555",
   "metadata": {},
   "outputs": [
    {
     "data": {
      "text/plain": [
       "array([[0, 0, 0, 0, 0],\n",
       "       [0, 0, 0, 0, 0],\n",
       "       [0, 0, 0, 0, 0],\n",
       "       [0, 0, 0, 0, 0],\n",
       "       [0, 0, 0, 0, 0],\n",
       "       [0, 0, 0, 0, 0],\n",
       "       [0, 0, 0, 0, 0],\n",
       "       [0, 0, 0, 0, 0]])"
      ]
     },
     "execution_count": 3,
     "metadata": {},
     "output_type": "execute_result"
    }
   ],
   "source": [
    "val2 = np.zeros((8,5) , dtype=int)   # Default dtype = float\n",
    "val2\n"
   ]
  },
  {
   "cell_type": "markdown",
   "id": "961bfbda",
   "metadata": {},
   "source": [
    "* np.ones\n"
   ]
  },
  {
   "cell_type": "code",
   "execution_count": 4,
   "id": "e981f06c",
   "metadata": {},
   "outputs": [
    {
     "data": {
      "text/plain": [
       "array([[1, 1, 1, 1, 1],\n",
       "       [1, 1, 1, 1, 1]])"
      ]
     },
     "execution_count": 4,
     "metadata": {},
     "output_type": "execute_result"
    }
   ],
   "source": [
    "val3 = np.ones((2,5) , dtype=int)\n",
    "val3"
   ]
  },
  {
   "cell_type": "markdown",
   "id": "74224bc7",
   "metadata": {},
   "source": [
    "* np.arange\n"
   ]
  },
  {
   "cell_type": "code",
   "execution_count": 5,
   "id": "0a304105",
   "metadata": {},
   "outputs": [
    {
     "data": {
      "text/plain": [
       "array([ 6,  8, 10, 12, 14, 16, 18, 20, 22, 24, 26, 28, 30, 32, 34, 36, 38])"
      ]
     },
     "execution_count": 5,
     "metadata": {},
     "output_type": "execute_result"
    }
   ],
   "source": [
    "val4 = np.arange(6,40,2)\n",
    "val4"
   ]
  },
  {
   "cell_type": "markdown",
   "id": "a9b1c9ca",
   "metadata": {},
   "source": [
    "* linspace"
   ]
  },
  {
   "cell_type": "code",
   "execution_count": 6,
   "id": "c2d1838f",
   "metadata": {},
   "outputs": [
    {
     "data": {
      "text/plain": [
       "array([10., 15., 20., 25., 30.])"
      ]
     },
     "execution_count": 6,
     "metadata": {},
     "output_type": "execute_result"
    }
   ],
   "source": [
    "val5 = np.linspace(10,30,5)\n",
    "val5"
   ]
  },
  {
   "cell_type": "markdown",
   "id": "a1874176",
   "metadata": {},
   "source": [
    "* random"
   ]
  },
  {
   "cell_type": "code",
   "execution_count": 7,
   "id": "0a00b8f1",
   "metadata": {},
   "outputs": [
    {
     "name": "stdout",
     "output_type": "stream",
     "text": [
      "[[16 20 10 16  7 19]\n",
      " [ 0 28  6 12 27 25]\n",
      " [22 19  4  1 16 25]\n",
      " [24 13 17 10 31 29]]\n"
     ]
    }
   ],
   "source": [
    "val6 = np.random.randint(0,35,size=(4,6))\n",
    "print(val6)"
   ]
  },
  {
   "cell_type": "markdown",
   "id": "7737e983",
   "metadata": {},
   "source": [
    "* np.full"
   ]
  },
  {
   "cell_type": "code",
   "execution_count": 8,
   "id": "398a4146",
   "metadata": {},
   "outputs": [
    {
     "name": "stdout",
     "output_type": "stream",
     "text": [
      "[[[6 6 6]\n",
      "  [6 6 6]\n",
      "  [6 6 6]\n",
      "  [6 6 6]]\n",
      "\n",
      " [[6 6 6]\n",
      "  [6 6 6]\n",
      "  [6 6 6]\n",
      "  [6 6 6]]\n",
      "\n",
      " [[6 6 6]\n",
      "  [6 6 6]\n",
      "  [6 6 6]\n",
      "  [6 6 6]]]\n"
     ]
    }
   ],
   "source": [
    "val7 = np.full((3,4,3),6)\n",
    "print(val7)"
   ]
  },
  {
   "cell_type": "markdown",
   "id": "0a29712d",
   "metadata": {},
   "source": [
    "* identity"
   ]
  },
  {
   "cell_type": "code",
   "execution_count": 9,
   "id": "39d1bb6a",
   "metadata": {},
   "outputs": [
    {
     "name": "stdout",
     "output_type": "stream",
     "text": [
      "[[1. 0. 0. 0. 0.]\n",
      " [0. 1. 0. 0. 0.]\n",
      " [0. 0. 1. 0. 0.]\n",
      " [0. 0. 0. 1. 0.]\n",
      " [0. 0. 0. 0. 1.]]\n"
     ]
    }
   ],
   "source": [
    "val8 = np.identity(5)\n",
    "print(val8)"
   ]
  },
  {
   "cell_type": "markdown",
   "id": "be4e5e42",
   "metadata": {},
   "source": [
    "* asarray"
   ]
  },
  {
   "cell_type": "code",
   "execution_count": 16,
   "id": "f9affc3f",
   "metadata": {},
   "outputs": [
    {
     "data": {
      "text/plain": [
       "array([1, 2, 3])"
      ]
     },
     "execution_count": 16,
     "metadata": {},
     "output_type": "execute_result"
    }
   ],
   "source": [
    "list_ = [1,2,3]\n",
    "val9 = np.asarray(list_)\n",
    "val9"
   ]
  },
  {
   "cell_type": "code",
   "execution_count": 17,
   "id": "7abad97e",
   "metadata": {},
   "outputs": [
    {
     "data": {
      "text/plain": [
       "array([[2, 3, 3, 1],\n",
       "       [4, 4, 2, 2]])"
      ]
     },
     "execution_count": 17,
     "metadata": {},
     "output_type": "execute_result"
    }
   ],
   "source": [
    "a = np.random.randint(1,5,(2,4))\n",
    "a"
   ]
  },
  {
   "cell_type": "code",
   "execution_count": 19,
   "id": "2b9987a1",
   "metadata": {},
   "outputs": [
    {
     "data": {
      "text/plain": [
       "array([[6, 5, 8, 6],\n",
       "       [8, 8, 7, 9]])"
      ]
     },
     "execution_count": 19,
     "metadata": {},
     "output_type": "execute_result"
    }
   ],
   "source": [
    "k = np.random.randint(5,10,(2,4))\n",
    "k"
   ]
  },
  {
   "cell_type": "code",
   "execution_count": 20,
   "id": "a1115cfb",
   "metadata": {},
   "outputs": [
    {
     "data": {
      "text/plain": [
       "array([[12, 15, 24,  6],\n",
       "       [32, 32, 14, 18]])"
      ]
     },
     "execution_count": 20,
     "metadata": {},
     "output_type": "execute_result"
    }
   ],
   "source": [
    "# Multiply\n",
    "np.multiply(a,k)"
   ]
  },
  {
   "cell_type": "code",
   "execution_count": 21,
   "id": "76bd3d26",
   "metadata": {},
   "outputs": [
    {
     "data": {
      "text/plain": [
       "array([[0.33333333, 0.6       , 0.375     , 0.16666667],\n",
       "       [0.5       , 0.5       , 0.28571429, 0.22222222]])"
      ]
     },
     "execution_count": 21,
     "metadata": {},
     "output_type": "execute_result"
    }
   ],
   "source": [
    "# Divide \n",
    "np.divide(a,k)"
   ]
  },
  {
   "cell_type": "code",
   "execution_count": 25,
   "id": "d9c87e44",
   "metadata": {},
   "outputs": [
    {
     "data": {
      "text/plain": [
       "55800"
      ]
     },
     "execution_count": 25,
     "metadata": {},
     "output_type": "execute_result"
    }
   ],
   "source": [
    "# multiplication\n",
    "multiply = np.multiply(186, 300)\n",
    "multiply"
   ]
  },
  {
   "cell_type": "markdown",
   "id": "4bca84b8",
   "metadata": {},
   "source": [
    "# Array Operations"
   ]
  },
  {
   "cell_type": "code",
   "execution_count": 32,
   "id": "89fe7651",
   "metadata": {},
   "outputs": [
    {
     "data": {
      "text/plain": [
       "array([[23,  5, 15, 32,  6],\n",
       "       [12, 36, 20, 27, 18],\n",
       "       [ 4,  8, 18, 21,  5]])"
      ]
     },
     "execution_count": 32,
     "metadata": {},
     "output_type": "execute_result"
    }
   ],
   "source": [
    "val1 = np.random.randint(1,40,(3,5))\n",
    "val1"
   ]
  },
  {
   "cell_type": "markdown",
   "id": "6e167911",
   "metadata": {},
   "source": [
    "* max"
   ]
  },
  {
   "cell_type": "code",
   "execution_count": 33,
   "id": "b4187544",
   "metadata": {},
   "outputs": [
    {
     "data": {
      "text/plain": [
       "0"
      ]
     },
     "execution_count": 33,
     "metadata": {},
     "output_type": "execute_result"
    }
   ],
   "source": [
    "val2.max()"
   ]
  },
  {
   "cell_type": "markdown",
   "id": "6a68f12b",
   "metadata": {},
   "source": [
    "* min"
   ]
  },
  {
   "cell_type": "code",
   "execution_count": 34,
   "id": "2074c7f8",
   "metadata": {},
   "outputs": [
    {
     "data": {
      "text/plain": [
       "1"
      ]
     },
     "execution_count": 34,
     "metadata": {},
     "output_type": "execute_result"
    }
   ],
   "source": [
    "val3.min()"
   ]
  },
  {
   "cell_type": "markdown",
   "id": "0f0d15e4",
   "metadata": {},
   "source": [
    "* Median"
   ]
  },
  {
   "cell_type": "code",
   "execution_count": 35,
   "id": "43070699",
   "metadata": {},
   "outputs": [
    {
     "data": {
      "text/plain": [
       "3.5"
      ]
     },
     "execution_count": 35,
     "metadata": {},
     "output_type": "execute_result"
    }
   ],
   "source": [
    "val4 = np.array([[1,2,3],[5,8,4]])\n",
    "np.median(val4)"
   ]
  },
  {
   "cell_type": "markdown",
   "id": "2cfab16c",
   "metadata": {},
   "source": [
    "# Array Manipulation"
   ]
  },
  {
   "cell_type": "code",
   "execution_count": 36,
   "id": "c2ccc011",
   "metadata": {},
   "outputs": [
    {
     "data": {
      "text/plain": [
       "array([[4, 2, 1, 4, 1, 2],\n",
       "       [3, 4, 1, 3, 3, 4],\n",
       "       [4, 2, 1, 2, 4, 3],\n",
       "       [4, 2, 4, 2, 1, 4]])"
      ]
     },
     "execution_count": 36,
     "metadata": {},
     "output_type": "execute_result"
    }
   ],
   "source": [
    "val1 = np.array(np.random.randint(1,5,(4,6)))\n",
    "val1"
   ]
  },
  {
   "cell_type": "code",
   "execution_count": 37,
   "id": "53539cbd",
   "metadata": {},
   "outputs": [
    {
     "data": {
      "text/plain": [
       "array([[4, 3, 4, 4],\n",
       "       [2, 4, 2, 2],\n",
       "       [1, 1, 1, 4],\n",
       "       [4, 3, 2, 2],\n",
       "       [1, 3, 4, 1],\n",
       "       [2, 4, 3, 4]])"
      ]
     },
     "execution_count": 37,
     "metadata": {},
     "output_type": "execute_result"
    }
   ],
   "source": [
    "transpose_array = np.transpose(val1)\n",
    "transpose_array"
   ]
  },
  {
   "cell_type": "code",
   "execution_count": 38,
   "id": "97445589",
   "metadata": {},
   "outputs": [
    {
     "data": {
      "text/plain": [
       "array([[7, 6, 7, 7],\n",
       "       [7, 7, 5, 7],\n",
       "       [6, 7, 5, 6],\n",
       "       [5, 6, 5, 7],\n",
       "       [5, 6, 6, 7],\n",
       "       [6, 7, 6, 6]])"
      ]
     },
     "execution_count": 38,
     "metadata": {},
     "output_type": "execute_result"
    }
   ],
   "source": [
    "val2 = np.array(np.random.randint(5,8,(6,4)))\n",
    "val2"
   ]
  },
  {
   "cell_type": "code",
   "execution_count": 39,
   "id": "1fe9f402",
   "metadata": {},
   "outputs": [
    {
     "data": {
      "text/plain": [
       "array([1, 1, 1, 1, 1, 1, 1, 1, 1, 1])"
      ]
     },
     "execution_count": 39,
     "metadata": {},
     "output_type": "execute_result"
    }
   ],
   "source": [
    "val3.flatten()"
   ]
  },
  {
   "cell_type": "markdown",
   "id": "eedefa2f",
   "metadata": {},
   "source": [
    "# Numpy array Attributes"
   ]
  },
  {
   "cell_type": "markdown",
   "id": "aef048f5",
   "metadata": {},
   "source": [
    "ndarray.shape"
   ]
  },
  {
   "cell_type": "code",
   "execution_count": 42,
   "id": "3eb3a298",
   "metadata": {},
   "outputs": [
    {
     "name": "stdout",
     "output_type": "stream",
     "text": [
      "(2, 3)\n"
     ]
    }
   ],
   "source": [
    "val1 = np.array([[1,2,3],[3,4,9]])\n",
    "print(val1.shape)"
   ]
  },
  {
   "cell_type": "code",
   "execution_count": 43,
   "id": "7cc5b81e",
   "metadata": {},
   "outputs": [
    {
     "name": "stdout",
     "output_type": "stream",
     "text": [
      "(4, 2, 3)\n"
     ]
    }
   ],
   "source": [
    "val2 = np.array([[[1,2,3],[4,5,6]],\n",
    "                       [[1,2,3],[4,5,6]],\n",
    "                       [[1,2,3],[4,5,6]],\n",
    "                       [[1,2,3],[4,5,6]]])\n",
    "print(val2.shape)"
   ]
  },
  {
   "cell_type": "markdown",
   "id": "a5ee71d1",
   "metadata": {},
   "source": [
    "ndarray.ndim"
   ]
  },
  {
   "cell_type": "code",
   "execution_count": 45,
   "id": "d6bcbde1",
   "metadata": {},
   "outputs": [
    {
     "name": "stdout",
     "output_type": "stream",
     "text": [
      "The dimension of val3:  2\n"
     ]
    }
   ],
   "source": [
    "val3 = np.array([[1,2,3],[4,5,6]])\n",
    "print(f\"The dimension of val3: \",val3.ndim)"
   ]
  },
  {
   "cell_type": "markdown",
   "id": "f3ef09a4",
   "metadata": {},
   "source": [
    "ndarray.dtype"
   ]
  },
  {
   "cell_type": "code",
   "execution_count": 46,
   "id": "83476999",
   "metadata": {},
   "outputs": [
    {
     "name": "stdout",
     "output_type": "stream",
     "text": [
      "int32\n"
     ]
    }
   ],
   "source": [
    "val4 = np.array([1,2,3,4,5])\n",
    "print(val4.dtype)"
   ]
  },
  {
   "cell_type": "markdown",
   "id": "e52305a6",
   "metadata": {},
   "source": [
    "ndarray.size"
   ]
  },
  {
   "cell_type": "code",
   "execution_count": 48,
   "id": "008624e9",
   "metadata": {},
   "outputs": [
    {
     "name": "stdout",
     "output_type": "stream",
     "text": [
      "The total number of elements in val5 =  6\n"
     ]
    }
   ],
   "source": [
    "val5 = np.array([[1,2,3],[4,5,8]])\n",
    "print(f\"The total number of elements in val5 =  {val5.size}\")"
   ]
  },
  {
   "cell_type": "markdown",
   "id": "3d680e0e",
   "metadata": {},
   "source": [
    "ndarray.astype"
   ]
  },
  {
   "cell_type": "code",
   "execution_count": 50,
   "id": "8cd1c6d2",
   "metadata": {},
   "outputs": [
    {
     "name": "stdout",
     "output_type": "stream",
     "text": [
      "int32\n",
      "[2 3 4]\n",
      "[2. 3. 4.]\n"
     ]
    }
   ],
   "source": [
    "val6 = np.array([2,3,4])\n",
    "print(val6.dtype)\n",
    "print(val6)\n",
    "print(val6_)"
   ]
  },
  {
   "cell_type": "code",
   "execution_count": null,
   "id": "d02b4167",
   "metadata": {},
   "outputs": [],
   "source": []
  }
 ],
 "metadata": {
  "kernelspec": {
   "display_name": "Python 3 (ipykernel)",
   "language": "python",
   "name": "python3"
  },
  "language_info": {
   "codemirror_mode": {
    "name": "ipython",
    "version": 3
   },
   "file_extension": ".py",
   "mimetype": "text/x-python",
   "name": "python",
   "nbconvert_exporter": "python",
   "pygments_lexer": "ipython3",
   "version": "3.11.5"
  }
 },
 "nbformat": 4,
 "nbformat_minor": 5
}
