{
 "cells": [
  {
   "cell_type": "markdown",
   "id": "0ebaf6c0",
   "metadata": {},
   "source": [
    "# Dictionary\n",
    "* A dictionary object is constructed using curly braces {key1:value1,key2:value2,key3:value3}"
   ]
  },
  {
   "cell_type": "code",
   "execution_count": 2,
   "id": "77882174",
   "metadata": {},
   "outputs": [],
   "source": [
    "student = {'name':'kalyani','result':'Pass','year':'202'}"
   ]
  },
  {
   "cell_type": "code",
   "execution_count": 3,
   "id": "a84d2af3",
   "metadata": {},
   "outputs": [
    {
     "data": {
      "text/plain": [
       "'Pass'"
      ]
     },
     "execution_count": 3,
     "metadata": {},
     "output_type": "execute_result"
    }
   ],
   "source": [
    "# Calling value by their key\n",
    "student['result']"
   ]
  },
  {
   "cell_type": "code",
   "execution_count": 4,
   "id": "e60a0391",
   "metadata": {},
   "outputs": [
    {
     "data": {
      "text/plain": [
       "dict"
      ]
     },
     "execution_count": 4,
     "metadata": {},
     "output_type": "execute_result"
    }
   ],
   "source": [
    "type(student)"
   ]
  },
  {
   "cell_type": "code",
   "execution_count": 5,
   "id": "c47392f1",
   "metadata": {},
   "outputs": [
    {
     "data": {
      "text/plain": [
       "'kalyani'"
      ]
     },
     "execution_count": 5,
     "metadata": {},
     "output_type": "execute_result"
    }
   ],
   "source": [
    "student['name']"
   ]
  },
  {
   "cell_type": "markdown",
   "id": "995584b9",
   "metadata": {},
   "source": [
    "# Dictionary Methods\n",
    "* Keys()\n",
    "* This method returns the list of keys in the dictionary object"
   ]
  },
  {
   "cell_type": "code",
   "execution_count": 6,
   "id": "8a003633",
   "metadata": {},
   "outputs": [],
   "source": [
    "student = {'name':'kalyani','result':'Pass','year':'2023'}"
   ]
  },
  {
   "cell_type": "code",
   "execution_count": 7,
   "id": "ddf5f662",
   "metadata": {},
   "outputs": [
    {
     "data": {
      "text/plain": [
       "dict_keys(['name', 'result', 'year'])"
      ]
     },
     "execution_count": 7,
     "metadata": {},
     "output_type": "execute_result"
    }
   ],
   "source": [
    "student.keys()"
   ]
  },
  {
   "cell_type": "code",
   "execution_count": 8,
   "id": "9ec1dd0f",
   "metadata": {},
   "outputs": [
    {
     "data": {
      "text/plain": [
       "['name', 'result', 'year']"
      ]
     },
     "execution_count": 8,
     "metadata": {},
     "output_type": "execute_result"
    }
   ],
   "source": [
    "list(student.keys())\n"
   ]
  },
  {
   "cell_type": "markdown",
   "id": "647256d8",
   "metadata": {},
   "source": [
    "# Values()\n",
    "* This method returns the list of values in the dictionary object"
   ]
  },
  {
   "cell_type": "code",
   "execution_count": 9,
   "id": "7269dd53",
   "metadata": {},
   "outputs": [],
   "source": [
    "student = {'name':'kalyani','result':'Pass','year':'2023'}"
   ]
  },
  {
   "cell_type": "code",
   "execution_count": 10,
   "id": "e40e48f9",
   "metadata": {},
   "outputs": [
    {
     "name": "stdout",
     "output_type": "stream",
     "text": [
      "{'name': 'kalyani', 'result': 'Pass', 'year': '2023'}\n"
     ]
    }
   ],
   "source": [
    "print(student)"
   ]
  },
  {
   "cell_type": "code",
   "execution_count": 11,
   "id": "71f18205",
   "metadata": {},
   "outputs": [
    {
     "data": {
      "text/plain": [
       "['kalyani', 'Pass', '2023']"
      ]
     },
     "execution_count": 11,
     "metadata": {},
     "output_type": "execute_result"
    }
   ],
   "source": [
    "list(student.values())"
   ]
  },
  {
   "cell_type": "markdown",
   "id": "8f5017a4",
   "metadata": {},
   "source": [
    "# Items()\n",
    "* This method returns the list of the keys and values"
   ]
  },
  {
   "cell_type": "code",
   "execution_count": 12,
   "id": "dc89a40b",
   "metadata": {},
   "outputs": [],
   "source": [
    "student = {'name':'KALYANI','result':'Pass','year':'2023'}"
   ]
  },
  {
   "cell_type": "code",
   "execution_count": 13,
   "id": "c8bd7833",
   "metadata": {},
   "outputs": [
    {
     "data": {
      "text/plain": [
       "[('name', 'KALYANI'), ('result', 'Pass'), ('year', '2023')]"
      ]
     },
     "execution_count": 13,
     "metadata": {},
     "output_type": "execute_result"
    }
   ],
   "source": [
    "list(student.items())"
   ]
  },
  {
   "cell_type": "markdown",
   "id": "dd086ec4",
   "metadata": {},
   "source": [
    "# Get()\n",
    "* This method takes the key as an argument and returns None if the key is not found in the dictionary."
   ]
  },
  {
   "cell_type": "code",
   "execution_count": 14,
   "id": "21452305",
   "metadata": {},
   "outputs": [],
   "source": [
    "student = {'name':'KALYANI','result':'Pass','year':'2023'}"
   ]
  },
  {
   "cell_type": "code",
   "execution_count": 15,
   "id": "de132f29",
   "metadata": {},
   "outputs": [
    {
     "data": {
      "text/plain": [
       "'Pass'"
      ]
     },
     "execution_count": 15,
     "metadata": {},
     "output_type": "execute_result"
    }
   ],
   "source": [
    "student.get('result')"
   ]
  },
  {
   "cell_type": "code",
   "execution_count": 16,
   "id": "87a0db81",
   "metadata": {},
   "outputs": [
    {
     "data": {
      "text/plain": [
       "'KALYANI'"
      ]
     },
     "execution_count": 16,
     "metadata": {},
     "output_type": "execute_result"
    }
   ],
   "source": [
    "student.get('name')"
   ]
  },
  {
   "cell_type": "markdown",
   "id": "1d273d30",
   "metadata": {},
   "source": [
    "# Update()\n",
    "* You can add an element which is a key-value pair using the update() method"
   ]
  },
  {
   "cell_type": "code",
   "execution_count": 17,
   "id": "d3af0959",
   "metadata": {},
   "outputs": [],
   "source": [
    "student = {'name':'KALYANI','result':'Pass','year':'2023'}"
   ]
  },
  {
   "cell_type": "code",
   "execution_count": 18,
   "id": "e2307916",
   "metadata": {},
   "outputs": [],
   "source": [
    "student.update({'School':'Little step Highschool'})"
   ]
  },
  {
   "cell_type": "code",
   "execution_count": 19,
   "id": "1f55ed79",
   "metadata": {},
   "outputs": [
    {
     "data": {
      "text/plain": [
       "{'name': 'KALYANI',\n",
       " 'result': 'Pass',\n",
       " 'year': '2023',\n",
       " 'School': 'XYZ CBSCschool'}"
      ]
     },
     "execution_count": 19,
     "metadata": {},
     "output_type": "execute_result"
    }
   ],
   "source": [
    "student"
   ]
  },
  {
   "cell_type": "code",
   "execution_count": 20,
   "id": "288035b5",
   "metadata": {},
   "outputs": [],
   "source": [
    "# Updating exisiting value\n",
    "student.update({'name':'Boki'})"
   ]
  },
  {
   "cell_type": "code",
   "execution_count": 21,
   "id": "84a8e9b2",
   "metadata": {},
   "outputs": [
    {
     "data": {
      "text/plain": [
       "{'name': 'Boki', 'result': 'Pass', 'year': '2023', 'School': 'XYZ CBSCschool'}"
      ]
     },
     "execution_count": 21,
     "metadata": {},
     "output_type": "execute_result"
    }
   ],
   "source": [
    "student"
   ]
  },
  {
   "cell_type": "markdown",
   "id": "0f67d2d3",
   "metadata": {},
   "source": [
    "# Pop()\n",
    "* This method removes and returns an element from a dictionary having the given key"
   ]
  },
  {
   "cell_type": "code",
   "execution_count": 22,
   "id": "6136ed93",
   "metadata": {},
   "outputs": [
    {
     "data": {
      "text/plain": [
       "'Pass'"
      ]
     },
     "execution_count": 22,
     "metadata": {},
     "output_type": "execute_result"
    }
   ],
   "source": [
    "student.pop('result')"
   ]
  },
  {
   "cell_type": "code",
   "execution_count": 23,
   "id": "4ed42c8b",
   "metadata": {},
   "outputs": [
    {
     "data": {
      "text/plain": [
       "{'name': 'Boki', 'year': '2023', 'School': 'XYZ CBSCschool'}"
      ]
     },
     "execution_count": 23,
     "metadata": {},
     "output_type": "execute_result"
    }
   ],
   "source": [
    "student"
   ]
  },
  {
   "cell_type": "code",
   "execution_count": null,
   "id": "a63ddc1f",
   "metadata": {},
   "outputs": [],
   "source": []
  }
 ],
 "metadata": {
  "kernelspec": {
   "display_name": "Python 3 (ipykernel)",
   "language": "python",
   "name": "python3"
  },
  "language_info": {
   "codemirror_mode": {
    "name": "ipython",
    "version": 3
   },
   "file_extension": ".py",
   "mimetype": "text/x-python",
   "name": "python",
   "nbconvert_exporter": "python",
   "pygments_lexer": "ipython3",
   "version": "3.11.5"
  }
 },
 "nbformat": 4,
 "nbformat_minor": 5
}
