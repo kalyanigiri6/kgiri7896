{
 "cells": [
  {
   "cell_type": "markdown",
   "id": "eda2312d",
   "metadata": {},
   "source": [
    "# Logical operators"
   ]
  },
  {
   "cell_type": "code",
   "execution_count": 11,
   "id": "ad877983",
   "metadata": {},
   "outputs": [],
   "source": [
    "vel1 = 22\n",
    "vel2 = 33\n",
    "vel3 = 47\n",
    "vel4 = 33\n"
   ]
  },
  {
   "cell_type": "code",
   "execution_count": 12,
   "id": "9e4821f1",
   "metadata": {},
   "outputs": [
    {
     "name": "stdout",
     "output_type": "stream",
     "text": [
      "22 33 47 33\n"
     ]
    }
   ],
   "source": [
    "print(vel1,vel2,vel3,vel4)"
   ]
  },
  {
   "cell_type": "code",
   "execution_count": 16,
   "id": "1a4aff81",
   "metadata": {},
   "outputs": [
    {
     "data": {
      "text/plain": [
       "True"
      ]
     },
     "execution_count": 16,
     "metadata": {},
     "output_type": "execute_result"
    }
   ],
   "source": [
    "# compare or equal to\n",
    "\n",
    "vel1 != vel2\n"
   ]
  },
  {
   "cell_type": "code",
   "execution_count": 14,
   "id": "a5d5dc39",
   "metadata": {},
   "outputs": [
    {
     "data": {
      "text/plain": [
       "False"
      ]
     },
     "execution_count": 14,
     "metadata": {},
     "output_type": "execute_result"
    }
   ],
   "source": [
    "vel1 > vel2"
   ]
  },
  {
   "cell_type": "code",
   "execution_count": 17,
   "id": "f74c5e47",
   "metadata": {},
   "outputs": [
    {
     "data": {
      "text/plain": [
       "False"
      ]
     },
     "execution_count": 17,
     "metadata": {},
     "output_type": "execute_result"
    }
   ],
   "source": [
    "vel4 == 88"
   ]
  },
  {
   "cell_type": "code",
   "execution_count": 21,
   "id": "859c06fa",
   "metadata": {},
   "outputs": [
    {
     "name": "stdout",
     "output_type": "stream",
     "text": [
      "False\n"
     ]
    }
   ],
   "source": [
    "#comparision\n",
    "\n",
    "a = 34\n",
    "c = 55\n",
    "c = (a<=b)\n",
    "print(c)"
   ]
  },
  {
   "cell_type": "markdown",
   "id": "adf44976",
   "metadata": {},
   "source": [
    "# String"
   ]
  },
  {
   "cell_type": "code",
   "execution_count": 1,
   "id": "efd74b5b",
   "metadata": {},
   "outputs": [
    {
     "data": {
      "text/plain": [
       "'this is a Hubnex'"
      ]
     },
     "execution_count": 1,
     "metadata": {},
     "output_type": "execute_result"
    }
   ],
   "source": [
    "'this is a Hubnex'"
   ]
  },
  {
   "cell_type": "code",
   "execution_count": 2,
   "id": "f80fde23",
   "metadata": {},
   "outputs": [
    {
     "data": {
      "text/plain": [
       "'this is a Technologies'"
      ]
     },
     "execution_count": 2,
     "metadata": {},
     "output_type": "execute_result"
    }
   ],
   "source": [
    "\"this is a Technologies\""
   ]
  },
  {
   "cell_type": "code",
   "execution_count": 5,
   "id": "2bb0b0f5",
   "metadata": {},
   "outputs": [
    {
     "name": "stdout",
     "output_type": "stream",
     "text": [
      "Hii\n"
     ]
    }
   ],
   "source": [
    "a = 'Hii'\n",
    "print(a)"
   ]
  },
  {
   "cell_type": "code",
   "execution_count": 8,
   "id": "3256f8e6",
   "metadata": {},
   "outputs": [
    {
     "name": "stdout",
     "output_type": "stream",
     "text": [
      "kalyani\n"
     ]
    }
   ],
   "source": [
    "a = \"kalyani\"\n",
    "print(a)"
   ]
  },
  {
   "cell_type": "code",
   "execution_count": 10,
   "id": "70c32ec1",
   "metadata": {},
   "outputs": [
    {
     "name": "stdout",
     "output_type": "stream",
     "text": [
      "sub of a&b 29\n"
     ]
    }
   ],
   "source": [
    "# Addition\n",
    "\n",
    "a=35\n",
    "b=6\n",
    "c=a-b\n",
    "print(\"sub of a&b\" ,c)"
   ]
  },
  {
   "cell_type": "markdown",
   "id": "db05888d",
   "metadata": {},
   "source": [
    "# Arithmatic OP"
   ]
  },
  {
   "cell_type": "code",
   "execution_count": 1,
   "id": "54274d92",
   "metadata": {},
   "outputs": [
    {
     "name": "stdout",
     "output_type": "stream",
     "text": [
      "sum 24\n",
      "sub -16\n",
      "mul 80\n",
      "div 0.2\n",
      "mod 4\n"
     ]
    }
   ],
   "source": [
    "a=4\n",
    "k=20\n",
    "print(\"sum\", a+k)\n",
    "print(\"sub\", a-k)\n",
    "print(\"mul\", a*k)\n",
    "print(\"div\", a/k)\n",
    "print(\"mod\", a%k)"
   ]
  },
  {
   "cell_type": "markdown",
   "id": "80906861",
   "metadata": {},
   "source": [
    "# Area of Circle, Square, Triangle, Rectangle"
   ]
  },
  {
   "cell_type": "code",
   "execution_count": 2,
   "id": "8ba25d2f",
   "metadata": {},
   "outputs": [
    {
     "name": "stdout",
     "output_type": "stream",
     "text": [
      "area of circle 339.6224000000001\n",
      "area of Square 400\n",
      "area of Triangle 21.0\n",
      "area of Rectangle 1.9599999999999997\n"
     ]
    }
   ],
   "source": [
    "r=10.4\n",
    "s=20\n",
    "b=1.4\n",
    "h=30\n",
    "l=1.4\n",
    "Circle=3.14*r*r\n",
    "Square=s*s\n",
    "Triangle=0.5*b*h\n",
    "Rectangle=l*b\n",
    "print(\"area of circle\", Circle)\n",
    "print(\"area of Square\", Square)\n",
    "print(\"area of Triangle\", Triangle)\n",
    "print(\"area of Rectangle\", Rectangle)"
   ]
  },
  {
   "cell_type": "markdown",
   "id": "cc6a946b",
   "metadata": {},
   "source": [
    "# Uppercase"
   ]
  },
  {
   "cell_type": "code",
   "execution_count": 3,
   "id": "75aa0a6c",
   "metadata": {},
   "outputs": [
    {
     "name": "stdout",
     "output_type": "stream",
     "text": [
      "MICAL JACSON\n"
     ]
    }
   ],
   "source": [
    "A = \"mical jacson\"\n",
    "print(A.upper())"
   ]
  },
  {
   "cell_type": "markdown",
   "id": "46fe58d7",
   "metadata": {},
   "source": [
    "# lowercase"
   ]
  },
  {
   "cell_type": "code",
   "execution_count": 4,
   "id": "8c871ba7",
   "metadata": {},
   "outputs": [
    {
     "name": "stdout",
     "output_type": "stream",
     "text": [
      "technology is best when it brings people together\n"
     ]
    }
   ],
   "source": [
    "A = \"TECHNOLOGY IS BEST WHEN IT BRINGS PEOPLE TOGETHER\"\n",
    "print(A.lower())"
   ]
  },
  {
   "cell_type": "code",
   "execution_count": null,
   "id": "ceb94d4b",
   "metadata": {},
   "outputs": [],
   "source": []
  }
 ],
 "metadata": {
  "kernelspec": {
   "display_name": "Python 3 (ipykernel)",
   "language": "python",
   "name": "python3"
  },
  "language_info": {
   "codemirror_mode": {
    "name": "ipython",
    "version": 3
   },
   "file_extension": ".py",
   "mimetype": "text/x-python",
   "name": "python",
   "nbconvert_exporter": "python",
   "pygments_lexer": "ipython3",
   "version": "3.11.5"
  }
 },
 "nbformat": 4,
 "nbformat_minor": 5
}
